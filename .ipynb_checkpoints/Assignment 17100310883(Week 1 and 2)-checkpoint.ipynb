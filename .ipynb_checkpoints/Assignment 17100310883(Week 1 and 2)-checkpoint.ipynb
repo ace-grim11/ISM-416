{
 "cells": [
  {
   "cell_type": "markdown",
   "metadata": {},
   "source": [
    "# `Note:` All assignment should be done inside the notebook (Double tap on each of this text to edit)."
   ]
  },
  {
   "cell_type": "markdown",
   "metadata": {},
   "source": [
    "### `Question 1`: \n",
    "Casey Anetor-Ebhabha \n",
    " 17100310883"
   ]
  },
  {
   "cell_type": "markdown",
   "metadata": {},
   "source": [
    "### `Question 2`: What do you understand by natural language processing ?\n",
    "Natural language processing (NLP) is a branch of artificial intelligence that helps computers understand, interpret and manipulate human language. It seeks to help computers to process, understand, interpret and manipulate human languages or natural languages in the most valuable way possible so as to draw insights or meaning from the large amounts of data or 'Big Data' that can be gotten from them.\n",
    "Natural Language Processing involves the use of concepts such as statistical models, computational linguistics, deep learning models and machine learning models essentially with the aim of providing computers with the ability to understand spoken words and texts in the way humans do. \n",
    "\n",
    "\n"
   ]
  },
  {
   "cell_type": "markdown",
   "metadata": {},
   "source": [
    "### `Question 3`: List some of the applications of natural language processing\n",
    "\n",
    "+ Utilised for personal voice assistants applications such as siri and google assistant\n",
    "\n",
    "+ Applied in grammar checking software and applications such as grammarly and ProWritingAid\n",
    "\n",
    "+ Used in Language translation softwares and websites such as google translate\n",
    "\n",
    "+ Natural Language generation - this involves the task of converting structured information into natural language. \n",
    "\n",
    "+ Text classification - This makes it possible to assign predefined categories to a document and organize it to help you find the information you need or simplify some activities.\n",
    "\n",
    "+ Question Answering - Question-Answering (QA) is becoming more and more popular thanks to applications such as Siri, OK Google, chat boxes and virtual assistants. A QA application is a system capable of coherently answering a human request.\n",
    "\n",
    "+ Speech to text - this involves the task of converting speech data into text data. \n",
    "\n",
    "+ Sentiment analysis - this involves identifying sentiments maong several posts on social media. Companies use this to help identify opinions and sentiment online. \n",
    "\n",
    "+ Document summarization -  this involves automatically generating a synopsis of a large body of text.\n",
    "\n",
    "+ Topic discovery and modeling - this is the process of accurately deciphering the meaning and themes from a collection of text while also applying advanced analytics to it to optimize and provide forecasts. \n"
   ]
  },
  {
   "cell_type": "markdown",
   "metadata": {},
   "source": [
    "### `Question 4`: What are some of the challenges of NLP?\n",
    "\n",
    "+ __Synonyms__ - Synonyms can lead to issues similar to contextual understanding because we use many different words to express the same idea. \n",
    "\n",
    "+ __Irony and sarcasm__ - Irony and sarcasm present problems for machine learning models because they generally use words and phrases that, strictly by definition, may be positive or negative, but actually connote the opposite.\n",
    "\n",
    "+ __Ambiguity__ - This refers to sentences and phrases that potentially have two or more meanings or interpretations.  \n",
    "                                         \n",
    "+ __Errors in speech and text__ - Misspelled words or words used wrongly can create problems in text analysis as although grammar correction applications can fix common mistakes, they might not understand the intentions of the writer. Different accents and ways of speaking can also throw off machine understanding. \n",
    "\n",
    "+ __Domain-Specific Languages__ - Different fields and industries may make use of different languages or terms in communication means. For Example, processing methods used for speech and text in the architecture industry may vary from those used in processing legal documents. \n",
    "\n",
    "+ __Low Resource Languages__ - Most NLP resources have been configured for widely used languages and as such, there is a risk of leaving behind or overlooking languages spoken in areas with minimal access to technology. \n",
    "\n",
    "+ __Contextual words and phrases and homonyms__ - The same words and phrases can have different meanings according the context of a sentence and many words – especially in English – have the exact same pronunciation but totally different meanings.\n",
    "\n",
    "\n",
    "\n"
   ]
  },
  {
   "cell_type": "markdown",
   "metadata": {},
   "source": [
    "### `Question 5`: Using some of the string operations learnt from this weeks topic (like: `set(), istitle(), split(), replace(), etc.`)\n",
    "### Declare 4 different strings (sentences) and apply the functions/methods.\n"
   ]
  },
  {
   "cell_type": "markdown",
   "metadata": {},
   "source": [
    ">>>> # Have a wonderful week ahead."
   ]
  },
  {
   "cell_type": "code",
   "execution_count": 18,
   "metadata": {},
   "outputs": [],
   "source": [
    "text1 =\"Its Cuffing season\""
   ]
  },
  {
   "cell_type": "code",
   "execution_count": 19,
   "metadata": {},
   "outputs": [],
   "source": [
    "text2 = text1.split(' ')"
   ]
  },
  {
   "cell_type": "code",
   "execution_count": 20,
   "metadata": {},
   "outputs": [
    {
     "data": {
      "text/plain": [
       "['Its', 'Cuffing', 'season']"
      ]
     },
     "execution_count": 20,
     "metadata": {},
     "output_type": "execute_result"
    }
   ],
   "source": [
    "text2"
   ]
  },
  {
   "cell_type": "code",
   "execution_count": 6,
   "metadata": {},
   "outputs": [],
   "source": [
    "text3 = 'access'"
   ]
  },
  {
   "cell_type": "code",
   "execution_count": 7,
   "metadata": {},
   "outputs": [],
   "source": [
    "text4 = text3.split('ss')\n"
   ]
  },
  {
   "cell_type": "code",
   "execution_count": 8,
   "metadata": {},
   "outputs": [
    {
     "data": {
      "text/plain": [
       "['acce', '']"
      ]
     },
     "execution_count": 8,
     "metadata": {},
     "output_type": "execute_result"
    }
   ],
   "source": [
    "text4"
   ]
  },
  {
   "cell_type": "code",
   "execution_count": 9,
   "metadata": {},
   "outputs": [
    {
     "data": {
      "text/plain": [
       "'access'"
      ]
     },
     "execution_count": 9,
     "metadata": {},
     "output_type": "execute_result"
    }
   ],
   "source": [
    "'ss'.join(text4)"
   ]
  },
  {
   "cell_type": "code",
   "execution_count": 10,
   "metadata": {},
   "outputs": [],
   "source": [
    "text5 = 'be you and i will be me'\n"
   ]
  },
  {
   "cell_type": "code",
   "execution_count": 11,
   "metadata": {},
   "outputs": [
    {
     "data": {
      "text/plain": [
       "'bl you and i will bl ml'"
      ]
     },
     "execution_count": 11,
     "metadata": {},
     "output_type": "execute_result"
    }
   ],
   "source": [
    "text6 = text5.replace('e','l')\n",
    "text6"
   ]
  },
  {
   "cell_type": "code",
   "execution_count": 12,
   "metadata": {},
   "outputs": [],
   "source": [
    "text7 = 'to be or to not be'"
   ]
  },
  {
   "cell_type": "code",
   "execution_count": 13,
   "metadata": {},
   "outputs": [
    {
     "data": {
      "text/plain": [
       "6"
      ]
     },
     "execution_count": 13,
     "metadata": {},
     "output_type": "execute_result"
    }
   ],
   "source": [
    "text8 = text7.split(' ')\n",
    "\n",
    "len(text8)"
   ]
  },
  {
   "cell_type": "code",
   "execution_count": 14,
   "metadata": {},
   "outputs": [
    {
     "data": {
      "text/plain": [
       "{'be', 'not', 'or', 'to'}"
      ]
     },
     "execution_count": 14,
     "metadata": {},
     "output_type": "execute_result"
    }
   ],
   "source": [
    "set(text8)"
   ]
  },
  {
   "cell_type": "code",
   "execution_count": 15,
   "metadata": {},
   "outputs": [],
   "source": [
    "text9 = 'Lifes a mess'"
   ]
  },
  {
   "cell_type": "code",
   "execution_count": 16,
   "metadata": {},
   "outputs": [],
   "source": [
    "text10 = text9.split(' ')"
   ]
  },
  {
   "cell_type": "code",
   "execution_count": 17,
   "metadata": {},
   "outputs": [
    {
     "data": {
      "text/plain": [
       "['Lifes']"
      ]
     },
     "execution_count": 17,
     "metadata": {},
     "output_type": "execute_result"
    }
   ],
   "source": [
    "[W for W in text10 if W.istitle()]"
   ]
  },
  {
   "cell_type": "code",
   "execution_count": null,
   "metadata": {},
   "outputs": [],
   "source": []
  },
  {
   "cell_type": "code",
   "execution_count": null,
   "metadata": {},
   "outputs": [],
   "source": []
  },
  {
   "cell_type": "code",
   "execution_count": null,
   "metadata": {},
   "outputs": [],
   "source": []
  },
  {
   "cell_type": "code",
   "execution_count": null,
   "metadata": {},
   "outputs": [],
   "source": []
  }
 ],
 "metadata": {
  "kernelspec": {
   "display_name": "Python 3",
   "language": "python",
   "name": "python3"
  },
  "language_info": {
   "codemirror_mode": {
    "name": "ipython",
    "version": 3
   },
   "file_extension": ".py",
   "mimetype": "text/x-python",
   "name": "python",
   "nbconvert_exporter": "python",
   "pygments_lexer": "ipython3",
   "version": "3.8.5"
  }
 },
 "nbformat": 4,
 "nbformat_minor": 2
}
